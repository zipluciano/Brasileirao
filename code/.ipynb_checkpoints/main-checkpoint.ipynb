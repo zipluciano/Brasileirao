{
 "cells": [
  {
   "cell_type": "code",
   "execution_count": 17,
   "metadata": {},
   "outputs": [],
   "source": [
    "import os\n",
    "import pandas as pd\n",
    "import numpy as np\n",
    "import matplotlib.pyplot as plt\n",
    "import seaborn as sns\n",
    "from sklearn.model_selection import train_test_split\n",
    "from sklearn.linear_model import LogisticRegression\n",
    "from sklearn.dummy import DummyClassifier\n",
    "\n",
    "main_dir = os.path.dirname(os.getcwd())\n",
    "data = os.path.join(main_dir, 'data', 'campeonato-brasileiro-estatisticas-full.csv')\n",
    "stats = pd.read_csv(data, sep = ';')"
   ]
  },
  {
   "cell_type": "code",
   "execution_count": 18,
   "metadata": {},
   "outputs": [
    {
     "data": {
      "text/plain": [
       "(4610, 12)"
      ]
     },
     "execution_count": 18,
     "metadata": {},
     "output_type": "execute_result"
    }
   ],
   "source": [
    "stats.shape"
   ]
  },
  {
   "cell_type": "code",
   "execution_count": 19,
   "metadata": {},
   "outputs": [
    {
     "data": {
      "text/html": [
       "<div>\n",
       "<style scoped>\n",
       "    .dataframe tbody tr th:only-of-type {\n",
       "        vertical-align: middle;\n",
       "    }\n",
       "\n",
       "    .dataframe tbody tr th {\n",
       "        vertical-align: top;\n",
       "    }\n",
       "\n",
       "    .dataframe thead th {\n",
       "        text-align: right;\n",
       "    }\n",
       "</style>\n",
       "<table border=\"1\" class=\"dataframe\">\n",
       "  <thead>\n",
       "    <tr style=\"text-align: right;\">\n",
       "      <th></th>\n",
       "      <th>ID</th>\n",
       "      <th>Mandante</th>\n",
       "      <th>Chutes</th>\n",
       "      <th>Chutes a gol</th>\n",
       "      <th>Posse de bola</th>\n",
       "      <th>Passes</th>\n",
       "      <th>Precisão de passe</th>\n",
       "      <th>Faltas</th>\n",
       "      <th>Cartões amarelos</th>\n",
       "      <th>Cartões vermelhos</th>\n",
       "      <th>Impedimentos</th>\n",
       "      <th>Escanteios</th>\n",
       "    </tr>\n",
       "  </thead>\n",
       "  <tbody>\n",
       "    <tr>\n",
       "      <th>0</th>\n",
       "      <td>6041</td>\n",
       "      <td>1</td>\n",
       "      <td>13.0</td>\n",
       "      <td>0.0</td>\n",
       "      <td>45%</td>\n",
       "      <td>326.0</td>\n",
       "      <td>NaN</td>\n",
       "      <td>20.0</td>\n",
       "      <td>2.0</td>\n",
       "      <td>0.0</td>\n",
       "      <td>3.0</td>\n",
       "      <td>3.0</td>\n",
       "    </tr>\n",
       "    <tr>\n",
       "      <th>1</th>\n",
       "      <td>6041</td>\n",
       "      <td>0</td>\n",
       "      <td>16.0</td>\n",
       "      <td>0.0</td>\n",
       "      <td>55%</td>\n",
       "      <td>388.0</td>\n",
       "      <td>NaN</td>\n",
       "      <td>21.0</td>\n",
       "      <td>2.0</td>\n",
       "      <td>0.0</td>\n",
       "      <td>0.0</td>\n",
       "      <td>5.0</td>\n",
       "    </tr>\n",
       "    <tr>\n",
       "      <th>2</th>\n",
       "      <td>6040</td>\n",
       "      <td>1</td>\n",
       "      <td>17.0</td>\n",
       "      <td>0.0</td>\n",
       "      <td>50%</td>\n",
       "      <td>406.0</td>\n",
       "      <td>NaN</td>\n",
       "      <td>20.0</td>\n",
       "      <td>2.0</td>\n",
       "      <td>0.0</td>\n",
       "      <td>2.0</td>\n",
       "      <td>11.0</td>\n",
       "    </tr>\n",
       "    <tr>\n",
       "      <th>3</th>\n",
       "      <td>6040</td>\n",
       "      <td>0</td>\n",
       "      <td>10.0</td>\n",
       "      <td>0.0</td>\n",
       "      <td>50%</td>\n",
       "      <td>426.0</td>\n",
       "      <td>NaN</td>\n",
       "      <td>14.0</td>\n",
       "      <td>4.0</td>\n",
       "      <td>0.0</td>\n",
       "      <td>4.0</td>\n",
       "      <td>2.0</td>\n",
       "    </tr>\n",
       "    <tr>\n",
       "      <th>4</th>\n",
       "      <td>6042</td>\n",
       "      <td>1</td>\n",
       "      <td>26.0</td>\n",
       "      <td>11.0</td>\n",
       "      <td>74%</td>\n",
       "      <td>702.0</td>\n",
       "      <td>NaN</td>\n",
       "      <td>9.0</td>\n",
       "      <td>2.0</td>\n",
       "      <td>0.0</td>\n",
       "      <td>1.0</td>\n",
       "      <td>5.0</td>\n",
       "    </tr>\n",
       "  </tbody>\n",
       "</table>\n",
       "</div>"
      ],
      "text/plain": [
       "     ID  Mandante  Chutes  Chutes a gol Posse de bola  Passes  \\\n",
       "0  6041         1    13.0           0.0           45%   326.0   \n",
       "1  6041         0    16.0           0.0           55%   388.0   \n",
       "2  6040         1    17.0           0.0           50%   406.0   \n",
       "3  6040         0    10.0           0.0           50%   426.0   \n",
       "4  6042         1    26.0          11.0           74%   702.0   \n",
       "\n",
       "  Precisão de passe  Faltas  Cartões amarelos  Cartões vermelhos  \\\n",
       "0               NaN    20.0               2.0                0.0   \n",
       "1               NaN    21.0               2.0                0.0   \n",
       "2               NaN    20.0               2.0                0.0   \n",
       "3               NaN    14.0               4.0                0.0   \n",
       "4               NaN     9.0               2.0                0.0   \n",
       "\n",
       "   Impedimentos  Escanteios  \n",
       "0           3.0         3.0  \n",
       "1           0.0         5.0  \n",
       "2           2.0        11.0  \n",
       "3           4.0         2.0  \n",
       "4           1.0         5.0  "
      ]
     },
     "execution_count": 19,
     "metadata": {},
     "output_type": "execute_result"
    }
   ],
   "source": [
    "stats.head()"
   ]
  },
  {
   "cell_type": "code",
   "execution_count": 20,
   "metadata": {},
   "outputs": [],
   "source": [
    "stats.dropna(axis = 0, subset = ['Precisão de passe'], inplace = True)"
   ]
  },
  {
   "cell_type": "code",
   "execution_count": 21,
   "metadata": {},
   "outputs": [],
   "source": [
    "stats.drop('ID', axis = 1, inplace = True)"
   ]
  },
  {
   "cell_type": "code",
   "execution_count": 22,
   "metadata": {},
   "outputs": [],
   "source": [
    "to_num_passe = []\n",
    "for x in stats['Precisão de passe']:\n",
    "    to_num_passe.append(int(x.split('%')[0]))\n",
    "\n",
    "to_num_posse = []\n",
    "for x in stats['Posse de bola']:\n",
    "    to_num_posse.append(int(x.split('%')[0]))"
   ]
  },
  {
   "cell_type": "code",
   "execution_count": 23,
   "metadata": {},
   "outputs": [],
   "source": [
    "stats['Posse de bola'] = to_num_posse\n",
    "stats['Precisão de passe'] = to_num_passe\n",
    "# até aqui o conjunto de dados foi preparado para análises futuras.\n",
    "# a partir desse ponto será construido um modelo apenas para prever\n",
    "# com base na quantidade de gols, se é mandante ou visitante"
   ]
  },
  {
   "cell_type": "code",
   "execution_count": null,
   "metadata": {},
   "outputs": [],
   "source": []
  },
  {
   "cell_type": "code",
   "execution_count": 7,
   "metadata": {},
   "outputs": [
    {
     "name": "stdout",
     "output_type": "stream",
     "text": [
      "X: (2282,)\n",
      "y: (2282,)\n"
     ]
    }
   ],
   "source": [
    "\n",
    "X, y = stats['Chutes a gol'], stats['Mandante']\n",
    "print('X:', X.shape)\n",
    "print('y:', y.shape)"
   ]
  },
  {
   "cell_type": "code",
   "execution_count": 8,
   "metadata": {},
   "outputs": [],
   "source": [
    "\n",
    "seed = 42\n",
    "test_size = 0.2\n",
    "\n",
    "X_train, X_test, y_train, y_test = train_test_split(\n",
    "                                                    X,\n",
    "                                                    y,\n",
    "                                                    random_state = seed,\n",
    "                                                    test_size = test_size,\n",
    "                                                    stratify = y\n",
    ")"
   ]
  },
  {
   "cell_type": "code",
   "execution_count": 9,
   "metadata": {},
   "outputs": [],
   "source": [
    "\n",
    "X_train = np.array(X_train).reshape(-1, 1)\n",
    "X_test = np.array(X_test).reshape(-1, 1)\n",
    "y_train = np.array(y_train).reshape(-1, 1)\n",
    "y_test = np.array(y_test).reshape(-1, 1)"
   ]
  },
  {
   "cell_type": "code",
   "execution_count": 10,
   "metadata": {},
   "outputs": [
    {
     "name": "stderr",
     "output_type": "stream",
     "text": [
      "C:\\Users\\lucia\\anaconda3\\envs\\my-env\\lib\\site-packages\\sklearn\\utils\\validation.py:63: DataConversionWarning: A column-vector y was passed when a 1d array was expected. Please change the shape of y to (n_samples, ), for example using ravel().\n",
      "  return f(*args, **kwargs)\n"
     ]
    }
   ],
   "source": [
    "\n",
    "# aplicando o modelo de regressão logística\n",
    "model= LogisticRegression(random_state = seed)\n",
    "model.fit(X_train, y_train)\n",
    "pred = model.predict(X_test)\n",
    "acc = model.score(X_test, y_test)"
   ]
  },
  {
   "cell_type": "code",
   "execution_count": 11,
   "metadata": {},
   "outputs": [],
   "source": [
    "\n",
    "# gerando um baseline\n",
    "DC = DummyClassifier()\n",
    "DC.fit(X_train, y_train)\n",
    "pred_DC = DC.predict(X_test)\n",
    "acc_DC = DC.score(X_test, y_test)"
   ]
  },
  {
   "cell_type": "code",
   "execution_count": 12,
   "metadata": {},
   "outputs": [
    {
     "name": "stdout",
     "output_type": "stream",
     "text": [
      "Acurácia da Regressão Logística: 62.14%\n",
      "Acurácia do Baseline: 49.89%\n"
     ]
    }
   ],
   "source": [
    "\n",
    "# comparando resultados\n",
    "print(f'Acurácia da Regressão Logística: {round(acc * 100, 2)}%')\n",
    "print(f'Acurácia do Baseline: {round(acc_DC * 100, 2)}%')"
   ]
  },
  {
   "cell_type": "code",
   "execution_count": 13,
   "metadata": {},
   "outputs": [],
   "source": [
    "\n",
    "d = {'cht_gol_teste': X_test.flatten(), 'alvo_previsto': pred}\n",
    "comp = pd.DataFrame(d)"
   ]
  },
  {
   "cell_type": "code",
   "execution_count": 14,
   "metadata": {},
   "outputs": [
    {
     "data": {
      "text/html": [
       "<div>\n",
       "<style scoped>\n",
       "    .dataframe tbody tr th:only-of-type {\n",
       "        vertical-align: middle;\n",
       "    }\n",
       "\n",
       "    .dataframe tbody tr th {\n",
       "        vertical-align: top;\n",
       "    }\n",
       "\n",
       "    .dataframe thead th {\n",
       "        text-align: right;\n",
       "    }\n",
       "</style>\n",
       "<table border=\"1\" class=\"dataframe\">\n",
       "  <thead>\n",
       "    <tr style=\"text-align: right;\">\n",
       "      <th></th>\n",
       "      <th>Mandante</th>\n",
       "      <th>Chutes</th>\n",
       "      <th>Chutes a gol</th>\n",
       "      <th>Posse de bola</th>\n",
       "      <th>Passes</th>\n",
       "      <th>Precisão de passe</th>\n",
       "      <th>Faltas</th>\n",
       "      <th>Cartões amarelos</th>\n",
       "      <th>Cartões vermelhos</th>\n",
       "      <th>Impedimentos</th>\n",
       "      <th>Escanteios</th>\n",
       "    </tr>\n",
       "  </thead>\n",
       "  <tbody>\n",
       "    <tr>\n",
       "      <th>2278</th>\n",
       "      <td>1</td>\n",
       "      <td>12.0</td>\n",
       "      <td>2.0</td>\n",
       "      <td>40</td>\n",
       "      <td>425.0</td>\n",
       "      <td>81</td>\n",
       "      <td>20.0</td>\n",
       "      <td>3.0</td>\n",
       "      <td>0.0</td>\n",
       "      <td>0.0</td>\n",
       "      <td>7.0</td>\n",
       "    </tr>\n",
       "    <tr>\n",
       "      <th>2279</th>\n",
       "      <td>0</td>\n",
       "      <td>6.0</td>\n",
       "      <td>2.0</td>\n",
       "      <td>60</td>\n",
       "      <td>649.0</td>\n",
       "      <td>86</td>\n",
       "      <td>15.0</td>\n",
       "      <td>1.0</td>\n",
       "      <td>1.0</td>\n",
       "      <td>3.0</td>\n",
       "      <td>4.0</td>\n",
       "    </tr>\n",
       "    <tr>\n",
       "      <th>2280</th>\n",
       "      <td>1</td>\n",
       "      <td>21.0</td>\n",
       "      <td>6.0</td>\n",
       "      <td>66</td>\n",
       "      <td>545.0</td>\n",
       "      <td>88</td>\n",
       "      <td>24.0</td>\n",
       "      <td>3.0</td>\n",
       "      <td>0.0</td>\n",
       "      <td>2.0</td>\n",
       "      <td>4.0</td>\n",
       "    </tr>\n",
       "    <tr>\n",
       "      <th>2281</th>\n",
       "      <td>0</td>\n",
       "      <td>10.0</td>\n",
       "      <td>5.0</td>\n",
       "      <td>34</td>\n",
       "      <td>286.0</td>\n",
       "      <td>72</td>\n",
       "      <td>10.0</td>\n",
       "      <td>2.0</td>\n",
       "      <td>1.0</td>\n",
       "      <td>2.0</td>\n",
       "      <td>5.0</td>\n",
       "    </tr>\n",
       "    <tr>\n",
       "      <th>2282</th>\n",
       "      <td>1</td>\n",
       "      <td>22.0</td>\n",
       "      <td>3.0</td>\n",
       "      <td>54</td>\n",
       "      <td>532.0</td>\n",
       "      <td>90</td>\n",
       "      <td>7.0</td>\n",
       "      <td>0.0</td>\n",
       "      <td>0.0</td>\n",
       "      <td>1.0</td>\n",
       "      <td>4.0</td>\n",
       "    </tr>\n",
       "  </tbody>\n",
       "</table>\n",
       "</div>"
      ],
      "text/plain": [
       "      Mandante  Chutes  Chutes a gol  Posse de bola  Passes  \\\n",
       "2278         1    12.0           2.0             40   425.0   \n",
       "2279         0     6.0           2.0             60   649.0   \n",
       "2280         1    21.0           6.0             66   545.0   \n",
       "2281         0    10.0           5.0             34   286.0   \n",
       "2282         1    22.0           3.0             54   532.0   \n",
       "\n",
       "      Precisão de passe  Faltas  Cartões amarelos  Cartões vermelhos  \\\n",
       "2278                 81    20.0               3.0                0.0   \n",
       "2279                 86    15.0               1.0                1.0   \n",
       "2280                 88    24.0               3.0                0.0   \n",
       "2281                 72    10.0               2.0                1.0   \n",
       "2282                 90     7.0               0.0                0.0   \n",
       "\n",
       "      Impedimentos  Escanteios  \n",
       "2278           0.0         7.0  \n",
       "2279           3.0         4.0  \n",
       "2280           2.0         4.0  \n",
       "2281           2.0         5.0  \n",
       "2282           1.0         4.0  "
      ]
     },
     "execution_count": 14,
     "metadata": {},
     "output_type": "execute_result"
    }
   ],
   "source": [
    "\n",
    "stats.head()"
   ]
  },
  {
   "cell_type": "code",
   "execution_count": 15,
   "metadata": {},
   "outputs": [
    {
     "data": {
      "image/png": "[encoded data removed]",
      "text/plain": [
       "<Figure size 720x432 with 2 Axes>"
      ]
     },
     "metadata": {
      "needs_background": "light"
     },
     "output_type": "display_data"
    }
   ],
   "source": [
    "\n",
    "fig, axes = plt.subplots(1, 2, figsize=(10, 6))\n",
    "fig.suptitle('Chutes a Gol - Real', fontsize = 15)\n",
    "sns.boxplot(ax = axes[0], data = stats[stats['Mandante'] == 0], y = 'Chutes a gol')\n",
    "sns.boxplot(ax = axes[1], data = stats[stats['Mandante'] == 1], y = 'Chutes a gol')\n",
    "axes[0].set_xlabel('Mandante', fontsize = 12)\n",
    "axes[0].set_ylabel('Chutes a Gol', fontsize = 12)\n",
    "axes[1].set_xlabel('Visitante', fontsize = 12)\n",
    "axes[1].set_ylabel('Chutes a Gol', fontsize = 12)\n",
    "plt.show()"
   ]
  },
  {
   "cell_type": "code",
   "execution_count": 16,
   "metadata": {},
   "outputs": [
    {
     "data": {
      "image/png": "[encoded data removed]",
      "text/plain": [
       "<Figure size 720x432 with 2 Axes>"
      ]
     },
     "metadata": {
      "needs_background": "light"
     },
     "output_type": "display_data"
    }
   ],
   "source": [
    "\n",
    "fig, axes = plt.subplots(1, 2, figsize=(10, 6))\n",
    "fig.suptitle('Chutes a Gol - Previsto', fontsize = 15)\n",
    "sns.boxplot(ax = axes[0], data = comp[comp['alvo_previsto'] == 0], y = 'cht_gol_teste')\n",
    "sns.boxplot(ax = axes[1], data = comp[comp['alvo_previsto'] == 1], y = 'cht_gol_teste')\n",
    "axes[0].set_xlabel('Mandante', fontsize = 12)\n",
    "axes[0].set_ylabel('Chutes a Gol', fontsize = 12)\n",
    "axes[1].set_xlabel('Visitante', fontsize = 12)\n",
    "axes[1].set_ylabel('Chutes a Gol', fontsize = 12)\n",
    "plt.show()\n"
   ]
  }
 ],
 "metadata": {
  "anaconda-cloud": {},
  "kernelspec": {
   "display_name": "Python 3",
   "language": "python",
   "name": "python3"
  },
  "language_info": {
   "codemirror_mode": {
    "name": "ipython",
    "version": 3
   },
   "file_extension": ".py",
   "mimetype": "text/x-python",
   "name": "python",
   "nbconvert_exporter": "python",
   "pygments_lexer": "ipython3",
   "version": "3.8.8"
  }
 },
 "nbformat": 4,
 "nbformat_minor": 4
}
