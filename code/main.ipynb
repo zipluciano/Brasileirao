{
  "cells": [
    {
      "cell_type": "code",
      "metadata": {},
      "source": [
        "# %% \n",
        "\n",
        "import os\n",
        "import pandas as pd\n",
        "import numpy as np\n",
        "import matplotlib.pyplot as plt\n",
        "import seaborn as sns\n",
        "from sklearn.model_selection import train_test_split\n",
        "from sklearn.linear_model import LogisticRegression\n",
        "from sklearn.dummy import DummyClassifier\n",
        "\n",
        "main_dir = os.path.dirname(os.getcwd())\n",
        "data = os.path.join(main_dir, 'data', 'campeonato-brasileiro-estatisticas-full.csv')\n",
        "stats = pd.read_csv(data, sep = ';')"
      ],
      "outputs": [],
      "execution_count": null
    },
    {
      "cell_type": "code",
      "metadata": {},
      "source": [
        "\n",
        "stats.shape"
      ],
      "outputs": [],
      "execution_count": null
    },
    {
      "cell_type": "code",
      "metadata": {},
      "source": [
        "\n",
        "stats.dropna(axis = 0, subset = ['Precis\u00e3o de passe'], inplace = True)"
      ],
      "outputs": [],
      "execution_count": null
    },
    {
      "cell_type": "code",
      "metadata": {},
      "source": [
        "\n",
        "stats.drop('ID', axis = 1, inplace = True)"
      ],
      "outputs": [],
      "execution_count": null
    },
    {
      "cell_type": "code",
      "metadata": {},
      "source": [
        "\n",
        "to_num_passe = []\n",
        "for x in stats['Precis\u00e3o de passe']:\n",
        "    to_num_passe.append(int(x.split('%')[0]))\n",
        "\n",
        "# %% \n",
        "\n",
        "to_num_posse = []\n",
        "for x in stats['Posse de bola']:\n",
        "    to_num_posse.append(int(x.split('%')[0]))"
      ],
      "outputs": [],
      "execution_count": null
    },
    {
      "cell_type": "code",
      "metadata": {},
      "source": [
        "\n",
        "stats['Posse de bola'] = to_num_posse\n",
        "stats['Precis\u00e3o de passe'] = to_num_passe\n",
        "# at\u00e9 aqui o conjunto de dados foi preparado para an\u00e1lises futuras.\n",
        "# a partir desse ponto ser\u00e1 construido um modelo apenas para prever\n",
        "# com base na quantidade de gols, se \u00e9 mandante ou visitante"
      ],
      "outputs": [],
      "execution_count": null
    },
    {
      "cell_type": "code",
      "metadata": {},
      "source": [
        "\n",
        "X, y = stats['Chutes a gol'], stats['Mandante']\n",
        "print('X:', X.shape)\n",
        "print('y:', y.shape)"
      ],
      "outputs": [],
      "execution_count": null
    },
    {
      "cell_type": "code",
      "metadata": {},
      "source": [
        "\n",
        "seed = 42\n",
        "test_size = 0.2\n",
        "\n",
        "X_train, X_test, y_train, y_test = train_test_split(\n",
        "                                                    X,\n",
        "                                                    y,\n",
        "                                                    random_state = seed,\n",
        "                                                    test_size = test_size,\n",
        "                                                    stratify = y\n",
        ")"
      ],
      "outputs": [],
      "execution_count": null
    },
    {
      "cell_type": "code",
      "metadata": {},
      "source": [
        "\n",
        "X_train = np.array(X_train).reshape(-1, 1)\n",
        "X_test = np.array(X_test).reshape(-1, 1)\n",
        "y_train = np.array(y_train).reshape(-1, 1)\n",
        "y_test = np.array(y_test).reshape(-1, 1)"
      ],
      "outputs": [],
      "execution_count": null
    },
    {
      "cell_type": "code",
      "metadata": {},
      "source": [
        "\n",
        "# aplicando o modelo de regress\u00e3o log\u00edstica\n",
        "model= LogisticRegression(random_state = seed)\n",
        "model.fit(X_train, y_train)\n",
        "pred = model.predict(X_test)\n",
        "acc = model.score(X_test, y_test)"
      ],
      "outputs": [],
      "execution_count": null
    },
    {
      "cell_type": "code",
      "metadata": {},
      "source": [
        "\n",
        "# gerando um baseline\n",
        "DC = DummyClassifier()\n",
        "DC.fit(X_train, y_train)\n",
        "pred_DC = DC.predict(X_test)\n",
        "acc_DC = DC.score(X_test, y_test)"
      ],
      "outputs": [],
      "execution_count": null
    },
    {
      "cell_type": "code",
      "metadata": {},
      "source": [
        "\n",
        "# comparando resultados\n",
        "print(f'Acur\u00e1cia da Regress\u00e3o Log\u00edstica: {round(acc * 100, 2)}%')\n",
        "print(f'Acur\u00e1cia do Baseline: {round(acc_DC * 100, 2)}%')"
      ],
      "outputs": [],
      "execution_count": null
    },
    {
      "cell_type": "code",
      "metadata": {},
      "source": [
        "\n",
        "d = {'cht_gol_teste': X_test.flatten(), 'alvo_previsto': pred}\n",
        "comp = pd.DataFrame(d)"
      ],
      "outputs": [],
      "execution_count": null
    },
    {
      "cell_type": "code",
      "metadata": {},
      "source": [
        "\n",
        "stats.head()"
      ],
      "outputs": [],
      "execution_count": null
    },
    {
      "cell_type": "code",
      "metadata": {},
      "source": [
        "\n",
        "fig, axes = plt.subplots(1, 2, figsize=(10, 6))\n",
        "fig.suptitle('Chutes a Gol - Real', fontsize = 15)\n",
        "sns.boxplot(ax = axes[0], data = stats[stats['Mandante'] == 0], y = 'Chutes a gol')\n",
        "sns.boxplot(ax = axes[1], data = stats[stats['Mandante'] == 1], y = 'Chutes a gol')\n",
        "axes[0].set_xlabel('Mandante', fontsize = 12)\n",
        "axes[0].set_ylabel('Chutes a Gol', fontsize = 12)\n",
        "axes[1].set_xlabel('Visitante', fontsize = 12)\n",
        "axes[1].set_ylabel('Chutes a Gol', fontsize = 12)\n",
        "plt.show()"
      ],
      "outputs": [],
      "execution_count": null
    },
    {
      "cell_type": "code",
      "metadata": {},
      "source": [
        "\n",
        "fig, axes = plt.subplots(1, 2, figsize=(10, 6))\n",
        "fig.suptitle('Chutes a Gol - Previsto', fontsize = 15)\n",
        "sns.boxplot(ax = axes[0], data = comp[comp['alvo_previsto'] == 0], y = 'cht_gol_teste')\n",
        "sns.boxplot(ax = axes[1], data = comp[comp['alvo_previsto'] == 1], y = 'cht_gol_teste')\n",
        "axes[0].set_xlabel('Mandante', fontsize = 12)\n",
        "axes[0].set_ylabel('Chutes a Gol', fontsize = 12)\n",
        "axes[1].set_xlabel('Visitante', fontsize = 12)\n",
        "axes[1].set_ylabel('Chutes a Gol', fontsize = 12)\n",
        "plt.show()\n"
      ],
      "outputs": [],
      "execution_count": null
    }
  ],
  "metadata": {
    "anaconda-cloud": {},
    "kernelspec": {
      "display_name": "Python 3",
      "language": "python",
      "name": "python3"
    },
    "language_info": {
      "codemirror_mode": {
        "name": "ipython",
        "version": 3
      },
      "file_extension": ".py",
      "mimetype": "text/x-python",
      "name": "python",
      "nbconvert_exporter": "python",
      "pygments_lexer": "ipython3",
      "version": "3.6.1"
    }
  },
  "nbformat": 4,
  "nbformat_minor": 4
}